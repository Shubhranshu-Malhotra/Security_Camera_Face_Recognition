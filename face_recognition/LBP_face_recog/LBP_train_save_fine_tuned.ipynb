{
 "cells": [
  {
   "cell_type": "code",
   "execution_count": 6,
   "id": "4b94aa58",
   "metadata": {},
   "outputs": [
    {
     "name": "stdout",
     "output_type": "stream",
     "text": [
      "Imports Successful!!\n"
     ]
    }
   ],
   "source": [
    "# import the necessary packages\n",
    "from sklearn.preprocessing import LabelEncoder\n",
    "from sklearn.model_selection import train_test_split\n",
    "from sklearn.metrics import classification_report\n",
    "from faces import load_face_dataset\n",
    "import numpy as np\n",
    "import argparse\n",
    "import imutils\n",
    "import time\n",
    "import cv2\n",
    "import os\n",
    "import pickle\n",
    "\n",
    "print(\"Imports Successful!!\")"
   ]
  },
  {
   "cell_type": "code",
   "execution_count": 7,
   "id": "933114fb",
   "metadata": {},
   "outputs": [],
   "source": [
    "DETECT_CONF_THRESH = 0.5\n",
    "RECOG_CONF_THRESH = 0.5\n",
    "image_folder = \"D:/Projects/security_camera_face_recognition/Security_Camera_Face_Recognition/face_recognition/datasets/caltech_faces_full\"\n",
    "detector_main_folder = \"D:/Projects/security_camera_face_recognition/Security_Camera_Face_Recognition/face_recognition/LBP_face_recog/face_detector\"\n",
    "recognizer_save_path = \"D:/Projects/security_camera_face_recognition/Security_Camera_Face_Recognition/face_recognition/LBP_face_recog/output/caltech_full_recognizer.yml\"\n",
    "label_encoder_save_path = \"D:/Projects/security_camera_face_recognition/Security_Camera_Face_Recognition/face_recognition/LBP_face_recog/output/caltech_full_label_encoder.pickle\"\n",
    "\n"
   ]
  },
  {
   "cell_type": "code",
   "execution_count": 8,
   "id": "cc866c94",
   "metadata": {},
   "outputs": [
    {
     "name": "stdout",
     "output_type": "stream",
     "text": [
      "[INFO] loading face detector model...\n",
      "[INFO] loading dataset...\n",
      "21 different people's faces. \n",
      " People names: ['person_a', 'person_b', 'person_c', 'person_d', 'person_e', 'person_f', 'person_g', 'person_h', 'person_i', 'person_j', 'person_k', 'person_l', 'person_m', 'person_n', 'person_o', 'person_p', 'person_q', 'person_r', 'person_s', 'person_t', 'shubhranshu_malhotra']\n",
      "Returning black and white faces and labels\n",
      "[INFO] Detecting faces took 45.7687 seconds\n",
      "[INFO] 448 images in dataset\n",
      "[INFO] training face recognizer...\n",
      "[INFO] training took 0.6082 seconds\n",
      "[INFO] Saving the trained recognizer and label encoder.\n"
     ]
    }
   ],
   "source": [
    "# load our serialized face detector model from disk\n",
    "print(\"[INFO] loading face detector model...\")\n",
    "prototxtPath = os.path.sep.join([detector_main_folder, \"deploy.prototxt\"])\n",
    "weightsPath = os.path.sep.join([detector_main_folder, \"res10_300x300_ssd_iter_140000.caffemodel\"])\n",
    "net = cv2.dnn.readNet(prototxtPath, weightsPath)\n",
    "\n",
    "\n",
    "# load the CALTECH faces dataset\n",
    "print(\"[INFO] loading dataset...\")\n",
    "start = time.time()\n",
    "(faces, labels) = load_face_dataset(image_folder, net, minConfidence=DETECT_CONF_THRESH, minSamples=15)\n",
    "end = time.time()\n",
    "print(\"[INFO] Detecting faces took {:.4f} seconds\".format(end - start))\n",
    "print(\"[INFO] {} images in dataset\".format(len(faces)))\n",
    "# encode the string labels as integers\n",
    "le = LabelEncoder()\n",
    "labels = le.fit_transform(labels)\n",
    "\n",
    "# train our LBP face recognizer\n",
    "print(\"[INFO] training face recognizer...\")\n",
    "recognizer = cv2.face.LBPHFaceRecognizer_create(radius=1, neighbors=8, grid_x=8, grid_y=8)\n",
    "start = time.time()\n",
    "recognizer.train(faces, labels)\n",
    "end = time.time()\n",
    "print(\"[INFO] training took {:.4f} seconds\".format(end - start))\n",
    "\n",
    "# Save trained recognizer and label encoder\n",
    "print(\"[INFO] Saving the trained recognizer and label encoder.\")\n",
    "# save the actual face recognition model to disk\n",
    "recognizer.save(recognizer_save_path)\n",
    "# write the label encoder to disk\n",
    "f = open(label_encoder_save_path, \"wb\")\n",
    "f.write(pickle.dumps(le))\n",
    "f.close()\n",
    "\n"
   ]
  },
  {
   "cell_type": "code",
   "execution_count": null,
   "id": "07e1a8d3",
   "metadata": {},
   "outputs": [],
   "source": []
  }
 ],
 "metadata": {
  "kernelspec": {
   "display_name": "face_recog",
   "language": "python",
   "name": "face_recog"
  },
  "language_info": {
   "codemirror_mode": {
    "name": "ipython",
    "version": 3
   },
   "file_extension": ".py",
   "mimetype": "text/x-python",
   "name": "python",
   "nbconvert_exporter": "python",
   "pygments_lexer": "ipython3",
   "version": "3.9.5"
  }
 },
 "nbformat": 4,
 "nbformat_minor": 5
}
