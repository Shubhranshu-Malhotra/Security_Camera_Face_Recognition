{
 "cells": [
  {
   "cell_type": "markdown",
   "id": "9afd385d",
   "metadata": {},
   "source": [
    "## Method Details:\n",
    "1. Use `Deep Learning` res10 model for **face detection**.\n",
    "2. Use `face_recognition.face_encoding()` for **encoding faces**.\n",
    "3. Use `SVM` model for **face recognition**."
   ]
  },
  {
   "cell_type": "code",
   "execution_count": 11,
   "id": "de58049e",
   "metadata": {},
   "outputs": [
    {
     "name": "stdout",
     "output_type": "stream",
     "text": [
      "Imports Successful !!\n"
     ]
    }
   ],
   "source": [
    "from imutils import paths\n",
    "import numpy as np\n",
    "import argparse\n",
    "import imutils\n",
    "import pickle\n",
    "import cv2\n",
    "import os\n",
    "import wget\n",
    "import face_recognition\n",
    "import matplotlib.pyplot as plt\n",
    "print(\"Imports Successful !!\")"
   ]
  },
  {
   "cell_type": "code",
   "execution_count": 16,
   "id": "1e2216c3",
   "metadata": {},
   "outputs": [],
   "source": [
    "DETECT_CONF_THRESH = 0.5\n",
    "RECOG_CONF_THRESH = 0.5\n",
    "image_folder = \"D:/Projects/security_camera_face_recognition/Security_Camera_Face_Recognition/face_recognition/datasets/caltech_faces_train/\"\n",
    "detector_main_folder = \"D:/Projects/security_camera_face_recognition/Security_Camera_Face_Recognition/face_recognition/DL_dlib_SVM/face_detection_model\"\n",
    "encodings_save_path = \"D:/Projects/security_camera_face_recognition/Security_Camera_Face_Recognition/face_recognition/DL_dlib_SVM/output/caltech_train_encodings.pickle\""
   ]
  },
  {
   "cell_type": "code",
   "execution_count": 13,
   "id": "bb165070",
   "metadata": {},
   "outputs": [
    {
     "name": "stdout",
     "output_type": "stream",
     "text": [
      "[INFO] loading face detector...\n",
      "[INFO] face detector loaded.\n"
     ]
    }
   ],
   "source": [
    "# Load face detector model\n",
    "print(\"[INFO] loading face detector...\")\n",
    "protoPath = os.path.join(detector_main_folder, \"deploy.prototxt\")\n",
    "modelPath = os.path.join(detector_main_folder,\"res10_300x300_ssd_iter_140000.caffemodel\")\n",
    "detector = cv2.dnn.readNetFromCaffe(protoPath, modelPath)\n",
    "print(\"[INFO] face detector loaded.\")\n"
   ]
  },
  {
   "cell_type": "code",
   "execution_count": 15,
   "id": "aa9902c3",
   "metadata": {},
   "outputs": [
    {
     "name": "stdout",
     "output_type": "stream",
     "text": [
      "[INFO] loading images' paths...\n"
     ]
    }
   ],
   "source": [
    "# grab the paths to the input images in our dataset\n",
    "print(\"[INFO] loading images' paths...\")\n",
    "imagePaths = list(paths.list_images(image_folder))\n",
    "knownEncodings = []\n",
    "knownNames = []\n",
    "# initialize the total number of faces processed\n",
    "total = 0\n"
   ]
  },
  {
   "cell_type": "code",
   "execution_count": null,
   "id": "9484a330",
   "metadata": {},
   "outputs": [],
   "source": [
    "# loop over the image paths\n",
    "for (i, imagePath) in enumerate(imagePaths):\n",
    "    # extract the person name from the image path\n",
    "    print(\"[INFO] processing image {}/{}\".format(i + 1, len(imagePaths)))\n",
    "    name = imagePath.split('/')[-1].split(os.path.sep)[-2]\n",
    "    image = cv2.imread(imagePath)\n",
    "    image = imutils.resize(image, width=600)\n",
    "    (h, w) = image.shape[:2]\n",
    "\n",
    "    # construct a blob from the image\n",
    "    imageBlob = cv2.dnn.blobFromImage( cv2.resize(image, (300, 300)), 1.0, (300, 300),\n",
    "                                        (104.0, 177.0, 123.0), swapRB=False, crop=False)\n",
    "    # apply OpenCV's deep learning-based face detector to localize faces in the input image\n",
    "    detector.setInput(imageBlob)\n",
    "    detections = detector.forward()\n",
    "\n",
    "    # ensure at least one face was found\n",
    "    if len(detections) > 0:\n",
    "        # we're making the assumption that each image has only ONE face, \n",
    "        # so find the bounding box with the largest probability\n",
    "        i = np.argmax(detections[0, 0, :, 2])\n",
    "        confidence = detections[0, 0, i, 2]\n",
    "        \n",
    "        if confidence > DETECT_CONF_THRESH:\n",
    "            # compute the (x, y)-coordinates of the bounding box for the face\n",
    "            box = detections[0, 0, i, 3:7] * np.array([w, h, w, h])\n",
    "            (startX, startY, endX, endY) = box.astype(\"int\")\n",
    "\n",
    "            # Need to convert because the face_recognition.face_encoding() doesn't use coordinate system\n",
    "            box = [(startY, endX, endY, startX)]\n",
    "            rgb = cv2.cvtColor(image, cv2.COLOR_BGR2RGB)\n",
    "\n",
    "            # Compute encoding using face_recognition library\n",
    "            encodings = np.array(face_recognition.face_encodings(rgb, box))\n",
    "            encodings = encodings.flatten()\n",
    "\n",
    "            # add the name of the person + corresponding face\n",
    "            # embedding to their respective lists\n",
    "            knownNames.append(name)\n",
    "            knownEncodings.append(encodings)\n",
    "            total += 1\n",
    "    print(\"[INFO] processed image {}/{}\".format(total, len(imagePaths)))\n",
    "\n",
    "# dump the facial embeddings + names to disk\n",
    "print(\"[INFO] serializing {} encodings...\".format(total))\n",
    "data = {\"encodings\": knownEncodings, \"names\": knownNames}\n",
    "f = open(encodings_save_path, \"wb\")\n",
    "f.write(pickle.dumps(data))\n",
    "f.close()\n"
   ]
  }
 ],
 "metadata": {
  "kernelspec": {
   "display_name": "face_recog",
   "language": "python",
   "name": "face_recog"
  },
  "language_info": {
   "codemirror_mode": {
    "name": "ipython",
    "version": 3
   },
   "file_extension": ".py",
   "mimetype": "text/x-python",
   "name": "python",
   "nbconvert_exporter": "python",
   "pygments_lexer": "ipython3",
   "version": "3.9.5"
  }
 },
 "nbformat": 4,
 "nbformat_minor": 5
}
