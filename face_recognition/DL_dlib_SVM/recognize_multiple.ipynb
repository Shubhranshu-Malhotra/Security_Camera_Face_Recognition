{
 "cells": [
  {
   "cell_type": "code",
   "execution_count": 38,
   "id": "dba4943d",
   "metadata": {},
   "outputs": [],
   "source": [
    "import numpy as np\n",
    "import argparse\n",
    "import imutils\n",
    "import pickle\n",
    "import cv2\n",
    "import os\n",
    "import random\n",
    "import face_recognition\n",
    "import time"
   ]
  },
  {
   "cell_type": "code",
   "execution_count": 39,
   "id": "ff6abb90",
   "metadata": {},
   "outputs": [],
   "source": [
    "DETECT_CONF_THRESH = 0.5\n",
    "RECOG_CONF_THRESH = 0.5\n",
    "image_folder = \"D:/Projects/security_camera_face_recognition/Security_Camera_Face_Recognition/face_recognition/datasets/caltech_faces_test/\"\n",
    "detector_main_folder = \"D:/Projects/security_camera_face_recognition/Security_Camera_Face_Recognition/face_recognition/DL_dlib_SVM/face_detection_model/\"\n",
    "encodings_save_path = \"D:/Projects/security_camera_face_recognition/Security_Camera_Face_Recognition/face_recognition/DL_dlib_SVM/output/caltech_train_encodings.pickle\"\n",
    "recognizer_save_path = \"D:/Projects/security_camera_face_recognition/Security_Camera_Face_Recognition/face_recognition/DL_dlib_SVM/output/caltech_train_recognizer.pickle\"\n",
    "label_encoder_save_path = \"D:/Projects/security_camera_face_recognition/Security_Camera_Face_Recognition/face_recognition/DL_dlib_SVM/output/caltech_train_label_encoder.pickle\"\n"
   ]
  },
  {
   "cell_type": "code",
   "execution_count": 40,
   "id": "9c4e3416",
   "metadata": {},
   "outputs": [
    {
     "name": "stdout",
     "output_type": "stream",
     "text": [
      "[INFO] loading face detector...\n",
      "[INFO] face detector loaded.\n",
      "[INFO] loading trained face recognizer model...\n"
     ]
    }
   ],
   "source": [
    "# Load face detector model\n",
    "print(\"[INFO] loading face detector...\")\n",
    "protoPath = os.path.join(detector_main_folder, \"deploy.prototxt\")\n",
    "modelPath = os.path.join(detector_main_folder,\"res10_300x300_ssd_iter_140000.caffemodel\")\n",
    "detector = cv2.dnn.readNetFromCaffe(protoPath, modelPath)\n",
    "print(\"[INFO] face detector loaded.\")\n",
    "# load the actual face recognition model along with the label encoder\n",
    "print(\"[INFO] loading trained face recognizer model...\")\n",
    "recognizer = pickle.loads(open(recognizer_save_path, \"rb\").read())\n",
    "le = pickle.loads(open(label_encoder_save_path, \"rb\").read())\n",
    "\n"
   ]
  },
  {
   "cell_type": "code",
   "execution_count": 41,
   "id": "2009605d",
   "metadata": {},
   "outputs": [
    {
     "name": "stdout",
     "output_type": "stream",
     "text": [
      "Total images in the specified folder:  49\n",
      "time taken to recognize person_d (21).jpg is 0.6276602745056152 seconds\n",
      "True Label: person_d, Predicted Label: person_d\n",
      "time taken to recognize person_l (14).jpg is 0.821460485458374 seconds\n",
      "True Label: person_l, Predicted Label: shubhranshu_malhotra\n",
      "time taken to recognize person_m (18).jpg is 0.44600367546081543 seconds\n",
      "True Label: person_m, Predicted Label: person_m\n",
      "time taken to recognize shubhranshu_malhotra (2).jpg is 0.45745420455932617 seconds\n",
      "True Label: shubhranshu_malhotra, Predicted Label: shubhranshu_malhotra\n",
      "time taken to recognize person_t (22).jpg is 0.4581930637359619 seconds\n",
      "True Label: person_t, Predicted Label: person_t\n",
      "time taken to recognize person_f (20).jpg is 0.42981529235839844 seconds\n",
      "True Label: person_f, Predicted Label: person_f\n",
      "time taken to recognize person_q (19).jpg is 0.46090221405029297 seconds\n",
      "True Label: person_q, Predicted Label: person_q\n",
      "time taken to recognize person_l (22).jpg is 0.4319887161254883 seconds\n",
      "True Label: person_l, Predicted Label: person_l\n",
      "time taken to recognize shubhranshu_malhotra (1).jpg is 0.4494795799255371 seconds\n",
      "True Label: shubhranshu_malhotra, Predicted Label: shubhranshu_malhotra\n",
      "time taken to recognize person_d (21).jpg is 0.4413576126098633 seconds\n",
      "True Label: person_d, Predicted Label: person_d\n"
     ]
    }
   ],
   "source": [
    "# load the image, resize it to have a width of 600 pixels (while\n",
    "# maintaining the aspect ratio), and then grab the image dimensions\n",
    "all_images = os.listdir(image_folder)\n",
    "print(\"Total images in the specified folder: \", len(all_images))\n",
    "for i in range(10):\n",
    "    time_1 = time.time()\n",
    "    random_image = random.choice(all_images)\n",
    "    true_name = random_image.split()[0]\n",
    "    image_path = os.path.join(image_folder, random_image)\n",
    "    image = cv2.imread(image_path)\n",
    "\n",
    "    image = imutils.resize(image, width=600)\n",
    "    (h, w) = image.shape[:2]\n",
    "    \n",
    "    # construct a blob from the image\n",
    "    imageBlob = cv2.dnn.blobFromImage(\n",
    "        cv2.resize(image, (300, 300)), 1.0, (300, 300),\n",
    "        (104.0, 177.0, 123.0), swapRB=False, crop=False)\n",
    "    \n",
    "    # apply OpenCV's deep learning-based face detector to localize faces in the input image\n",
    "    detector.setInput(imageBlob)\n",
    "    detections = detector.forward()\n",
    "\n",
    "    # loop over the detections\n",
    "    for i in range(0, detections.shape[2]):\n",
    "        # extract the confidence (i.e., probability) associated with the prediction\n",
    "        confidence = detections[0, 0, i, 2]\n",
    "        # filter out weak detections\n",
    "        if confidence > DETECT_CONF_THRESH:\n",
    "            # compute the (x, y)-coordinates of the bounding box for the face\n",
    "            box = detections[0, 0, i, 3:7] * np.array([w, h, w, h])\n",
    "            (startX, startY, endX, endY) = box.astype(\"int\")\n",
    "\n",
    "            # Need to convert because the face_recognition.face_encoding() doesn't use coordinate system\n",
    "            box = [(startY, endX, endY, startX)]\n",
    "            rgb = cv2.cvtColor(image, cv2.COLOR_BGR2RGB)\n",
    "\n",
    "            # Compute encoding using face_recognition library\n",
    "            encodings = np.array(face_recognition.face_encodings(rgb, box))\n",
    "\n",
    "            # perform classification to recognize the face\n",
    "            preds = recognizer.predict_proba(encodings)[0]\n",
    "            j = np.argmax(preds)\n",
    "            proba = preds[j]\n",
    "            name = le.classes_[j]\n",
    "\n",
    "            # draw the bounding box of the face along with the associated probability\n",
    "            text_1 = \"True: {} Predicted: {}: {:.2f}%\".format(true_name, name, proba * 100)\n",
    "            y = startY - 10 if startY - 10 > 10 else startY + 10\n",
    "            cv2.rectangle(image, (startX, startY), (endX, endY),\n",
    "                (0, 0, 255), 2)\n",
    "            if( true_name == name):\n",
    "                color = (0, 255, 0)\n",
    "            else:\n",
    "                color = (0, 0, 255)\n",
    "            cv2.putText(image, text_1, (startX, y),\n",
    "                cv2.FONT_HERSHEY_SIMPLEX, 0.45, color, 2)\n",
    "    # show the output image\n",
    "    cv2.imshow(\"Image\", image)\n",
    "    time_2 = time.time()\n",
    "    print(f\"time taken to recognize {random_image} is {time_2-time_1} seconds\")\n",
    "    print(f\"True Label: {true_name}, Predicted Label: {name}\")\n",
    "    key = cv2.waitKey(0)\n",
    "    if key == ord('q'):\n",
    "        break\n",
    "    elif key == ord('n'):\n",
    "        continue\n",
    "cv2.destroyAllWindows()"
   ]
  }
 ],
 "metadata": {
  "kernelspec": {
   "display_name": "face_recog",
   "language": "python",
   "name": "face_recog"
  },
  "language_info": {
   "codemirror_mode": {
    "name": "ipython",
    "version": 3
   },
   "file_extension": ".py",
   "mimetype": "text/x-python",
   "name": "python",
   "nbconvert_exporter": "python",
   "pygments_lexer": "ipython3",
   "version": "3.9.5"
  }
 },
 "nbformat": 4,
 "nbformat_minor": 5
}
