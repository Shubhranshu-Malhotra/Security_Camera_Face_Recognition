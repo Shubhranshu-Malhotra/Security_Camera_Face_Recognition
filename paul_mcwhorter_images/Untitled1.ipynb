{
 "cells": [
  {
   "cell_type": "code",
   "execution_count": 9,
   "metadata": {},
   "outputs": [],
   "source": [
    "import numpy\n",
    "import matplotlib\n",
    "# import cv2\n",
    "import sklearn\n",
    "import tensorflow"
   ]
  },
  {
   "cell_type": "code",
   "execution_count": 11,
   "metadata": {},
   "outputs": [],
   "source": [
    "import cv2"
   ]
  },
  {
   "cell_type": "code",
   "execution_count": null,
   "metadata": {},
   "outputs": [],
   "source": [
    "pip install opencv-python"
   ]
  },
  {
   "cell_type": "code",
   "execution_count": 15,
   "metadata": {},
   "outputs": [
    {
     "name": "stdout",
     "output_type": "stream",
     "text": [
      "Collecting face_recognition\n",
      "  Using cached face_recognition-1.3.0-py2.py3-none-any.whl (15 kB)\n",
      "Collecting Click>=6.0\n",
      "  Using cached click-8.0.1-py3-none-any.whl (97 kB)\n",
      "Requirement already satisfied: Pillow in c:\\users\\shubh\\anaconda3\\envs\\paul_face_recog\\lib\\site-packages (from face_recognition) (8.3.0)\n",
      "Requirement already satisfied: numpy in c:\\users\\shubh\\anaconda3\\envs\\paul_face_recog\\lib\\site-packages (from face_recognition) (1.19.5)\n",
      "Requirement already satisfied: face-recognition-models>=0.3.0 in c:\\users\\shubh\\anaconda3\\envs\\paul_face_recog\\lib\\site-packages (from face_recognition) (0.3.0)\n",
      "Requirement already satisfied: dlib>=19.7 in c:\\users\\shubh\\anaconda3\\envs\\paul_face_recog\\lib\\site-packages (from face_recognition) (19.22.0)\n",
      "Requirement already satisfied: colorama in c:\\users\\shubh\\anaconda3\\envs\\paul_face_recog\\lib\\site-packages (from Click>=6.0->face_recognition) (0.4.4)\n",
      "Requirement already satisfied: importlib-metadata in c:\\users\\shubh\\anaconda3\\envs\\paul_face_recog\\lib\\site-packages (from Click>=6.0->face_recognition) (4.6.1)\n",
      "Requirement already satisfied: zipp>=0.5 in c:\\users\\shubh\\anaconda3\\envs\\paul_face_recog\\lib\\site-packages (from importlib-metadata->Click>=6.0->face_recognition) (3.5.0)\n",
      "Requirement already satisfied: typing-extensions>=3.6.4 in c:\\users\\shubh\\anaconda3\\envs\\paul_face_recog\\lib\\site-packages (from importlib-metadata->Click>=6.0->face_recognition) (3.7.4.3)\n",
      "Installing collected packages: Click, face-recognition\n",
      "Successfully installed Click-8.0.1 face-recognition-1.3.0\n"
     ]
    }
   ],
   "source": [
    "# !pip install numpy scipy matplotlib scikit-learn jupyter\n",
    "# ! pip install tensorflow-gpu\n",
    "# ! pip install opencv-contrib-python\n",
    "# ! pip install dlib\n",
    "# ! pip install libopenblas-dev\n",
    "# ! pip install liblapack-dev\n",
    "# ! pip install libjpeg-dev\n",
    "# ! pip install cmake\n",
    "! pip install face_recognition"
   ]
  },
  {
   "cell_type": "code",
   "execution_count": null,
   "metadata": {},
   "outputs": [],
   "source": []
  }
 ],
 "metadata": {
  "kernelspec": {
   "display_name": "paul_face_recog",
   "language": "python",
   "name": "paul_face_recog"
  },
  "language_info": {
   "codemirror_mode": {
    "name": "ipython",
    "version": 3
   },
   "file_extension": ".py",
   "mimetype": "text/x-python",
   "name": "python",
   "nbconvert_exporter": "python",
   "pygments_lexer": "ipython3",
   "version": "3.6.8"
  }
 },
 "nbformat": 4,
 "nbformat_minor": 4
}
